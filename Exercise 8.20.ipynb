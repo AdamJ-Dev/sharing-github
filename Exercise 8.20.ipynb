{
 "cells": [
  {
   "cell_type": "markdown",
   "metadata": {},
   "source": [
    "From Practical Sheet 8, Exercise 8.20 took me some work to understand. Apparently, others too. I will first give my solution; then I will explain it. "
   ]
  },
  {
   "cell_type": "code",
   "execution_count": null,
   "metadata": {},
   "outputs": [],
   "source": [
    "# Run this Solution Code in Thonny!\n",
    "\n",
    "import numpy as np\n",
    "\n",
    "indices = np.array([0, 1, 2, 3])\n",
    "row_indices = indices[:, None]\n",
    "column_indices = indices[None, :]\n",
    "M = (row_indices - column_indices)**(row_indices + column_indices)\n",
    "print(M)"
   ]
  },
  {
   "cell_type": "markdown",
   "metadata": {},
   "source": [
    "What ideas at play here? How did I use them in my solution?\n",
    "\n",
    "First & foremost, matrices are represented in NumPy as *arrays of arrays*: the outer-array encloses the matrix, & the inner arrays are the rows. \n",
    "\n",
    "Now, suppose we have a one-dimensional array `a` which looks like `[x1, ..., xn]`. \n",
    "\n",
    "Then\n",
    "\n",
    "`a[:, None]` \n",
    "\n",
    "turns your 1 X N *array* into an N X 1 *matrix* which looks like `[[x1], ..., [xn]]`. Namely, it looks like an N X N matrix where you are missing the last N - 1 columns. Similarly\n",
    "\n",
    "`a[None, :]`\n",
    "\n",
    "turns your 1 X N array into a 1 X N matrix which looks like `[[x1, ..., xn]]`. Namely, it looks like an N X N matrix where you are missing the last N - 1 rows. \n",
    "\n",
    "**Broadcasting** implies that under the right conditions, `a[:, None]` and `a[None, :]` will behave like N X N matrices where their remaining columns and rows respectively are filled out by duplicates of the initial column and row.\n",
    "\n",
    "Now, at the base of the exponent for `M` above, I have written:"
   ]
  },
  {
   "cell_type": "code",
   "execution_count": null,
   "metadata": {},
   "outputs": [],
   "source": [
    "row_indices - column_indices "
   ]
  },
  {
   "cell_type": "markdown",
   "metadata": {},
   "source": [
    "This expression is not conventionally defined, as the matrices have different dimensions; maintaining the analogy with Linear Algebra, we don't add matrices with different dimensions.\n",
    "\n",
    "Specifically, by our above logic:\n",
    "\n",
    "`row_indices` represents the 4 X 1 matrix:\n",
    "\n",
    "\\begin{bmatrix}\n",
    "0\\\\1\\\\2\\\\3\n",
    "\\end{bmatrix} \n",
    "\n",
    "and `column_indices` the 1 X 4 matrix: \n",
    "\n",
    "\\begin{bmatrix}\n",
    "0 & 1 & 2 & 3\n",
    "\\end{bmatrix}\n",
    "\n",
    "So there is no obvious element-wise way of substracting `column_indices` from `row_indices`.\n",
    "\n",
    "But NumPy will interpret this as a broadcasting situation; the two matrices will add *as if* they were full-scale 4 X 4 matrices in exactly the sense mentioned above. \n",
    "\n",
    "So in particular, the expression:"
   ]
  },
  {
   "cell_type": "code",
   "execution_count": null,
   "metadata": {},
   "outputs": [],
   "source": [
    "np.array([[0],[1],[2],[3]]) - np.array([[0, 1, 2, 3]])"
   ]
  },
  {
   "cell_type": "markdown",
   "metadata": {},
   "source": [
    "is interpreted as:"
   ]
  },
  {
   "cell_type": "code",
   "execution_count": null,
   "metadata": {},
   "outputs": [],
   "source": [
    "np.array([[0, 0, 0, 0], [1, 1, 1, 1], [2, 2, 2, 2], [3, 3, 3, 3]]) \n",
    "- np.array([[0, 1, 2, 3], [0, 1, 2, 3], [0, 1, 2, 3], [0, 1, 2, 3]])"
   ]
  },
  {
   "cell_type": "markdown",
   "metadata": {},
   "source": [
    "Which is equivalent to a subtraction of column-from-row indices in a 4 X 4 matrix with \\\\(i, j\\\\) $ \\in$ {\\\\(0, 1, 2, 3\\\\)}.\n",
    "\n",
    "To finish solving 8.20, I used an additional, apparent fact which I absolutely and unapologetically *guessed* to be true, which is:\n",
    "\n",
    "*If you raise a NumPy matrix to the power of a matrix of the same dimensions, then each element of your base matrix will be raised to the power of the corresponding element in the exponent matrix.*\n",
    "\n",
    "In the exponent for `M`, by means of broadcasting, we have another 4 X 4 matrix whose elements are formed from adding their row & column indices. \n",
    "\n",
    "Combining these ideas gives `M` as required."
   ]
  }
 ],
 "metadata": {
  "kernelspec": {
   "display_name": "Python 3",
   "language": "python",
   "name": "python3"
  },
  "language_info": {
   "codemirror_mode": {
    "name": "ipython",
    "version": 3
   },
   "file_extension": ".py",
   "mimetype": "text/x-python",
   "name": "python",
   "nbconvert_exporter": "python",
   "pygments_lexer": "ipython3",
   "version": "3.8.3"
  }
 },
 "nbformat": 4,
 "nbformat_minor": 4
}
